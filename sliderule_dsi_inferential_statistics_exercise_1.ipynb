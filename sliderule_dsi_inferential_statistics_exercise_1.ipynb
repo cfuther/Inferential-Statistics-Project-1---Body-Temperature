{
 "cells": [
  {
   "cell_type": "markdown",
   "metadata": {},
   "source": [
    "# What is the True Normal Human Body Temperature? \n",
    "\n",
    "#### Background\n",
    "\n",
    "The mean normal body temperature was held to be 37$^{\\circ}$C or 98.6$^{\\circ}$F for more than 120 years since it was first conceptualized and reported by Carl Wunderlich in a famous 1868 book. But, is this value statistically correct?"
   ]
  },
  {
   "cell_type": "markdown",
   "metadata": {},
   "source": [
    "<h3>Exercises</h3>\n",
    "\n",
    "<p>In this exercise, you will analyze a dataset of human body temperatures and employ the concepts of hypothesis testing, confidence intervals, and statistical significance.</p>\n",
    "\n",
    "<p>Answer the following questions <b>in this notebook below and submit to your Github account</b>.</p> \n",
    "\n",
    "<ol>\n",
    "<li>  Is the distribution of body temperatures normal? \n",
    "    <ul>\n",
    "    <li> Although this is not a requirement for the Central Limit Theorem to hold (read the introduction on Wikipedia's page about the CLT carefully: https://en.wikipedia.org/wiki/Central_limit_theorem), it gives us some peace of mind that the population may also be normally distributed if we assume that this sample is representative of the population.\n",
    "    <li> Think about the way you're going to check for the normality of the distribution. Graphical methods are usually used first, but there are also other ways: https://en.wikipedia.org/wiki/Normality_test\n",
    "    </ul>\n",
    "<li>  Is the sample size large? Are the observations independent?\n",
    "    <ul>\n",
    "    <li> Remember that this is a condition for the Central Limit Theorem, and hence the statistical tests we are using, to apply.\n",
    "    </ul>\n",
    "<li>  Is the true population mean really 98.6 degrees F?\n",
    "    <ul>\n",
    "    <li> First, try a bootstrap hypothesis test.\n",
    "    <li> Now, let's try frequentist statistical testing. Would you use a one-sample or two-sample test? Why?\n",
    "    <li> In this situation, is it appropriate to use the $t$ or $z$ statistic? \n",
    "    <li> Now try using the other test. How is the result be different? Why?\n",
    "    </ul>\n",
    "<li>  Draw a small sample of size 10 from the data and repeat both frequentist tests. \n",
    "    <ul>\n",
    "    <li> Which one is the correct one to use? \n",
    "    <li> What do you notice? What does this tell you about the difference in application of the $t$ and $z$ statistic?\n",
    "    </ul>\n",
    "<li>  At what temperature should we consider someone's temperature to be \"abnormal\"?\n",
    "    <ul>\n",
    "    <li> As in the previous example, try calculating everything using the boostrap approach, as well as the frequentist approach.\n",
    "    <li> Start by computing the margin of error and confidence interval. When calculating the confidence interval, keep in mind that you should use the appropriate formula for one draw, and not N draws.\n",
    "    </ul>\n",
    "<li>  Is there a significant difference between males and females in normal temperature?\n",
    "    <ul>\n",
    "    <li> What testing approach did you use and why?\n",
    "    <li> Write a story with your conclusion in the context of the original problem.\n",
    "    </ul>\n",
    "</ol>\n",
    "\n",
    "You can include written notes in notebook cells using Markdown: \n",
    "   - In the control panel at the top, choose Cell > Cell Type > Markdown\n",
    "   - Markdown syntax: http://nestacms.com/docs/creating-content/markdown-cheat-sheet\n",
    "\n",
    "#### Resources\n",
    "\n",
    "+ Information and data sources: http://www.amstat.org/publications/jse/datasets/normtemp.txt, http://www.amstat.org/publications/jse/jse_data_archive.htm\n",
    "+ Markdown syntax: http://nestacms.com/docs/creating-content/markdown-cheat-sheet\n",
    "\n",
    "****"
   ]
  },
  {
   "cell_type": "code",
   "execution_count": 2,
   "metadata": {},
   "outputs": [],
   "source": [
    "import pandas as pd\n",
    "\n",
    "df = pd.read_csv('C:/DS/Springboard/EDA_human_temperature/data/human_body_temperature.csv')"
   ]
  },
  {
   "cell_type": "code",
   "execution_count": 23,
   "metadata": {},
   "outputs": [
    {
     "name": "stdout",
     "output_type": "stream",
     "text": [
      "130\n",
      "temperature    0\n",
      "gender         0\n",
      "heart_rate     0\n",
      "dtype: int64\n"
     ]
    },
    {
     "data": {
      "text/html": [
       "<div>\n",
       "<style scoped>\n",
       "    .dataframe tbody tr th:only-of-type {\n",
       "        vertical-align: middle;\n",
       "    }\n",
       "\n",
       "    .dataframe tbody tr th {\n",
       "        vertical-align: top;\n",
       "    }\n",
       "\n",
       "    .dataframe thead th {\n",
       "        text-align: right;\n",
       "    }\n",
       "</style>\n",
       "<table border=\"1\" class=\"dataframe\">\n",
       "  <thead>\n",
       "    <tr style=\"text-align: right;\">\n",
       "      <th></th>\n",
       "      <th>temperature</th>\n",
       "      <th>gender</th>\n",
       "      <th>heart_rate</th>\n",
       "    </tr>\n",
       "  </thead>\n",
       "  <tbody>\n",
       "    <tr>\n",
       "      <th>0</th>\n",
       "      <td>99.3</td>\n",
       "      <td>F</td>\n",
       "      <td>68.0</td>\n",
       "    </tr>\n",
       "    <tr>\n",
       "      <th>1</th>\n",
       "      <td>98.4</td>\n",
       "      <td>F</td>\n",
       "      <td>81.0</td>\n",
       "    </tr>\n",
       "    <tr>\n",
       "      <th>2</th>\n",
       "      <td>97.8</td>\n",
       "      <td>M</td>\n",
       "      <td>73.0</td>\n",
       "    </tr>\n",
       "    <tr>\n",
       "      <th>3</th>\n",
       "      <td>99.2</td>\n",
       "      <td>F</td>\n",
       "      <td>66.0</td>\n",
       "    </tr>\n",
       "    <tr>\n",
       "      <th>4</th>\n",
       "      <td>98.0</td>\n",
       "      <td>F</td>\n",
       "      <td>73.0</td>\n",
       "    </tr>\n",
       "  </tbody>\n",
       "</table>\n",
       "</div>"
      ],
      "text/plain": [
       "   temperature gender  heart_rate\n",
       "0         99.3      F        68.0\n",
       "1         98.4      F        81.0\n",
       "2         97.8      M        73.0\n",
       "3         99.2      F        66.0\n",
       "4         98.0      F        73.0"
      ]
     },
     "execution_count": 23,
     "metadata": {},
     "output_type": "execute_result"
    }
   ],
   "source": [
    "# Your work here.\n",
    "print(len(df))\n",
    "print(df.isna().sum())\n",
    "df.head()"
   ]
  },
  {
   "cell_type": "code",
   "execution_count": 18,
   "metadata": {},
   "outputs": [],
   "source": [
    "import matplotlib.pyplot as plt\n",
    "import matplotlib.mlab as mlab\n",
    "import numpy as np\n"
   ]
  },
  {
   "cell_type": "code",
   "execution_count": 19,
   "metadata": {},
   "outputs": [
    {
     "name": "stdout",
     "output_type": "stream",
     "text": [
      "98.24923076923078\n",
      "0.7331831580389454\n"
     ]
    }
   ],
   "source": [
    "mu = df['temperature'].mean()\n",
    "sigma = np.sqrt(df['temperature'].var()) \n",
    "\n",
    "print(mu)\n",
    "print(sigma)"
   ]
  },
  {
   "cell_type": "code",
   "execution_count": 20,
   "metadata": {},
   "outputs": [
    {
     "data": {
      "image/png": "[encoded data removed]",
      "text/plain": [
       "<matplotlib.figure.Figure at 0x1cdc47a9940>"
      ]
     },
     "metadata": {},
     "output_type": "display_data"
    }
   ],
   "source": [
    "#graphical check of normality\n",
    "x = np.linspace(mu - 3*sigma, mu + 3*sigma, 100)\n",
    "plt.plot(x,mlab.normpdf(x, mu, sigma))\n",
    "plt.hist(df['temperature'],bins=10,normed=True,alpha=0.5)\n",
    "plt.xlabel('temperature')\n",
    "plt.ylabel('Probability')\n",
    "plt.show()"
   ]
  },
  {
   "cell_type": "code",
   "execution_count": 49,
   "metadata": {},
   "outputs": [
    {
     "name": "stdout",
     "output_type": "stream",
     "text": [
      "0.6923076923076923\n",
      "0.9461538461538461\n",
      "0.9923076923076923\n"
     ]
    }
   ],
   "source": [
    "#back of envelope test\n",
    "def norm_test(data,n):\n",
    "    mu = np.mean(data)\n",
    "    sigma = np.std(data)\n",
    "    prop =  1 - (np.sum(data > mu + sigma*n) + np.sum(data < mu - sigma*n))/len(data)\n",
    "    return prop\n",
    "\n",
    "obs_sigma1 = norm_test(df['temperature'].values,1)\n",
    "obs_sigma2 = norm_test(df['temperature'].values,2)\n",
    "obs_sigma3 = norm_test(df['temperature'].values,3)\n",
    "print(obs_sigma1)\n",
    "print(obs_sigma2)\n",
    "print(obs_sigma3)\n",
    "\n",
    "# since the observed probability are close to the 68-95-99.7% target and graphical check of histogram is close to bell shape, \n",
    "# this distribution is normal distribution "
   ]
  },
  {
   "cell_type": "code",
   "execution_count": 51,
   "metadata": {},
   "outputs": [
    {
     "data": {
      "text/plain": [
       "NormaltestResult(statistic=2.703801433319203, pvalue=0.2587479863488254)"
      ]
     },
     "execution_count": 51,
     "metadata": {},
     "output_type": "execute_result"
    }
   ],
   "source": [
    "# use scipy to test normality\n",
    "import scipy.stats as stats\n",
    "stats.normaltest(df[\"temperature\"])\n",
    "# since pvalue is not small, cannot reject the null hypothesis of normal distribution"
   ]
  },
  {
   "cell_type": "markdown",
   "metadata": {},
   "source": [
    "# Answer to Q1\n",
    "\n",
    "Based on graphical check, back of envelope test and scipy normal test, the sample is normally distributed"
   ]
  },
  {
   "cell_type": "markdown",
   "metadata": {},
   "source": [
    "# Answer to Q2:\n",
    "1. sample size is 130, which is large\n",
    "2. it should be less than 10% of the total population, so it is safe to assume the temperature sample is random and independent "
   ]
  },
  {
   "cell_type": "code",
   "execution_count": 52,
   "metadata": {},
   "outputs": [
    {
     "name": "stdout",
     "output_type": "stream",
     "text": [
      "0.0\n"
     ]
    }
   ],
   "source": [
    "# bootstrapp hypothesis test\n",
    "# assume the true mean is 98.6\n",
    "trans_temp = df['temperature'] - df['temperature'].mean() + 98.6\n",
    "rep_mean = np.empty(10000)\n",
    "np.random.seed(10)\n",
    "for i in range(10000):\n",
    "    bs_temp = np.random.choice(trans_temp,len(df['temperature']))\n",
    "    rep_mean[i] = bs_temp.mean()\n",
    "p = np.sum(rep_mean <= df['temperature'].mean())/10000\n",
    "print(p)\n",
    "# the low p value suggests the null hypothesis is false, meaning the true mean temperature is not 98.6F"
   ]
  },
  {
   "cell_type": "code",
   "execution_count": 56,
   "metadata": {},
   "outputs": [
    {
     "name": "stdout",
     "output_type": "stream",
     "text": [
      "-5.454823292364079\n"
     ]
    }
   ],
   "source": [
    "# I would use one-sample test, since 98.6 is only one value\n",
    "# since sample size is large, it is safe to use z-test for approximation \n",
    "# experiment 1: assume sample standard deviation approximately equal to that of population\n",
    "z = (df['temperature'].mean()-98.6)/(df['temperature'].std()/np.sqrt(130))\n",
    "print(z)\n",
    "# calculate p-value based on z table\n",
    "# since calculated z is less than the smallest in z table\n",
    "pvalue < 0.0003 \n",
    "# therefore 98.6 is not the true normal temperature"
   ]
  },
  {
   "cell_type": "code",
   "execution_count": 57,
   "metadata": {},
   "outputs": [
    {
     "name": "stdout",
     "output_type": "stream",
     "text": [
      "-5.522290981353405\n"
     ]
    }
   ],
   "source": [
    "# experiment 2: use bootstrap to generate population standard deviation\n",
    "bs_std = np.empty(1000)\n",
    "for i in range(1000):\n",
    "    bs_sample = np.random.choice(df['temperature'],size=len(df['temperature']))\n",
    "    bs_std[i] = np.std(bs_sample)\n",
    "pop_std = bs_std.mean()\n",
    "z_star = (df['temperature'].mean()-98.6)/(pop_std/np.sqrt(130))\n",
    "print(z_star)\n",
    "# z score using population standard deviation is close to the z score using sample standard deviation for approximation\n",
    "# p value < 0.0003\n",
    "# conclusion remains the same"
   ]
  },
  {
   "cell_type": "code",
   "execution_count": 58,
   "metadata": {},
   "outputs": [
    {
     "name": "stdout",
     "output_type": "stream",
     "text": [
      "-5.454823292364079\n"
     ]
    }
   ],
   "source": [
    "# t test is also appropriate, since we don't have information on the standard deviation of true population\n",
    "import math \n",
    "t = (df['temperature'].mean()-98.6)/(df['temperature'].std()/np.sqrt(130))\n",
    "print(t)\n",
    "# degree of freedom 129, the t level is ~ 3.35 for p value of 0.0005\n",
    "# since the calculated t level is smaller than 3.35 so the p-value is less than 0.0005\n",
    "# the null hypothesis is not true, and true mean is not 98.6"
   ]
  },
  {
   "cell_type": "markdown",
   "metadata": {},
   "source": [
    "# Answer to Q3\n",
    "\n",
    "Based on bootstrap, z-test and t-test, conclusion remains consistent and 98.6 is not the true nromal temperature"
   ]
  },
  {
   "cell_type": "code",
   "execution_count": 81,
   "metadata": {},
   "outputs": [
    {
     "data": {
      "image/png": "[encoded data removed]",
      "text/plain": [
       "<matplotlib.figure.Figure at 0x1cdc6641908>"
      ]
     },
     "metadata": {},
     "output_type": "display_data"
    }
   ],
   "source": [
    "# draw 10 sample from the original sample\n",
    "np.random.seed(10)\n",
    "t_10 = np.random.choice(df['temperature'],size=10)\n",
    "plt.hist(t_10)\n",
    "plt.show()"
   ]
  },
  {
   "cell_type": "code",
   "execution_count": 76,
   "metadata": {},
   "outputs": [
    {
     "name": "stdout",
     "output_type": "stream",
     "text": [
      "0.2609\n"
     ]
    }
   ],
   "source": [
    "# bootstrapping of 10 size sample\n",
    "trans_temp = t_10 - t_10.mean() + 98.6\n",
    "rep_mean = np.empty(10000)\n",
    "for i in range(10000):\n",
    "    bs_temp = np.random.choice(trans_temp,len(t_10))\n",
    "    rep_mean[i] = bs_temp.mean()\n",
    "p = np.sum(rep_mean <= t_10.mean())/10000\n",
    "print(p)\n",
    "# since p-value is not small, cannot reject the null hypothesis that 98.6 is the true normal temperature"
   ]
  },
  {
   "cell_type": "code",
   "execution_count": 77,
   "metadata": {},
   "outputs": [
    {
     "name": "stdout",
     "output_type": "stream",
     "text": [
      "-0.5980209079213772\n"
     ]
    }
   ],
   "source": [
    "# t-test of 10 size sample\n",
    "t = (t_10.mean() - 98.6)/(t_10.std()/np.sqrt(10))\n",
    "print(t)\n",
    "# with degree of freedom at 9,t level of -0.6 means a p-value around 0.3 for one-tail test \n",
    "# it means cannot reject the null hypothesis that 98.6 is the true normal temperature"
   ]
  },
  {
   "cell_type": "code",
   "execution_count": 78,
   "metadata": {},
   "outputs": [
    {
     "data": {
      "text/plain": [
       "Ttest_1sampResult(statistic=-0.5673324472300146, pvalue=0.5843598014763095)"
      ]
     },
     "execution_count": 78,
     "metadata": {},
     "output_type": "execute_result"
    }
   ],
   "source": [
    "import scipy\n",
    "t_stats = scipy.stats.ttest_1samp(t_10, 98.6)\n",
    "t_stats\n",
    "# t test from scipy gives a pvalue of 0.58, cannot reject null hypothesis"
   ]
  },
  {
   "cell_type": "code",
   "execution_count": 79,
   "metadata": {},
   "outputs": [
    {
     "name": "stdout",
     "output_type": "stream",
     "text": [
      "-0.5980209079213772\n"
     ]
    }
   ],
   "source": [
    "# z-test of 10 size sample\n",
    "z = (t_10.mean() - 98.6)/(t_10.std()/np.sqrt(10))\n",
    "print(z)\n",
    "# z value -0.6 means a p-value around 0.27, cannot reject the null hypothesis"
   ]
  },
  {
   "cell_type": "markdown",
   "metadata": {},
   "source": [
    "# Answer to Q4: \n",
    "1. when sample size is small, t-test should be used\n",
    "2. t-test/z-test/bootstrapping all conclude cannot reject the null hypothesis\n",
    "3. this is mainly because the small sample size makes the sample not normal distribution anymore \n",
    "4. p-value from t-test is higher than that from z-test, since z-test needs to approximately use sample standard deviation to substitude population standard deviation, and that approximation is reasonable only when sample size is large"
   ]
  },
  {
   "cell_type": "code",
   "execution_count": 38,
   "metadata": {},
   "outputs": [
    {
     "name": "stdout",
     "output_type": "stream",
     "text": [
      "temperature lower than  96.7225  or higher than  99.4775 can be considered abnormal\n"
     ]
    }
   ],
   "source": [
    "# abnormal temperature range using bootstrapping\n",
    "rep_low = np.empty(10000)\n",
    "rep_high = np.empty(10000)\n",
    "for i in range(10000):\n",
    "    bs_temp = np.random.choice(df['temperature'],len(df['temperature']))\n",
    "    rep_low[i] = np.percentile(bs_temp,2.5)\n",
    "    rep_high[i] = np.percentile(bs_temp,97.5)\n",
    "# use median of bootstrap low and high value to avoid influence of outliers\n",
    "temp_low = np.percentile(rep_low,50)\n",
    "temp_high = np.percentile(rep_high,50)\n",
    "\n",
    "print(\"temperature lower than \",temp_low,\" or higher than \",temp_high, \"can be considered abnormal\")"
   ]
  },
  {
   "cell_type": "code",
   "execution_count": 82,
   "metadata": {},
   "outputs": [
    {
     "name": "stdout",
     "output_type": "stream",
     "text": [
      "temperature lower than  96.79752811631367  or higher than  99.70093342214788 can be considered abnormal based on z-test\n"
     ]
    }
   ],
   "source": [
    "# abnormal temperature range using z-test\n",
    "# 95% confidence interval\n",
    "# z-value of two-tail table at degree of freedom is ~ 1.98\n",
    "# margin of error \n",
    "sigma_s = df['temperature'].std()\n",
    "t_low = df['temperature'].mean() - 1.98*sigma_s\n",
    "t_high = df['temperature'].mean() + 1.98*sigma_s\n",
    "print(\"temperature lower than \",t_low,\" or higher than \",t_high, \"can be considered abnormal based on z-test\")"
   ]
  },
  {
   "cell_type": "markdown",
   "metadata": {},
   "source": [
    "# Answer to Q5\n",
    "1. bootstrap shows temperature lower than  96.7225  or higher than  99.4775 can be considered abnormal\n",
    "2. z-test shows temperature lower than  96.79752811631367  or higher than  99.70093342214788 can be considered abnormal "
   ]
  },
  {
   "cell_type": "code",
   "execution_count": 45,
   "metadata": {},
   "outputs": [
    {
     "name": "stdout",
     "output_type": "stream",
     "text": [
      "0.012\n"
     ]
    }
   ],
   "source": [
    "# Answer to Q6\n",
    "# Use 2-sample bootstrap test to check if the normal temperature of male and female different\n",
    "# null hypothesis: mean temperatures of males and females are the same\n",
    "m_temp = df[df['gender'] == 'M']['temperature']\n",
    "f_temp = df[df['gender'] == 'F']['temperature']\n",
    "obs_dif = m_temp.mean() - f_temp.mean()\n",
    "total_mean = df['temperature'].mean()\n",
    "trans_m = m_temp - m_temp.mean() + total_mean\n",
    "trans_f = f_temp - f_temp.mean() + total_mean\n",
    "rep_dif = np.empty(10000)\n",
    "for i in range(10000):\n",
    "    bs_m = np.random.choice(trans_m,len(trans_m))\n",
    "    bs_f = np.random.choice(trans_f,len(trans_f))\n",
    "    rep_dif[i] = bs_m.mean() - bs_f.mean()\n",
    "p_value = np.sum(rep_dif <= obs_dif)/len(rep_dif)\n",
    "print(p_value)\n",
    "\n"
   ]
  },
  {
   "cell_type": "code",
   "execution_count": 48,
   "metadata": {},
   "outputs": [
    {
     "name": "stdout",
     "output_type": "stream",
     "text": [
      "0.012\n"
     ]
    }
   ],
   "source": [
    "# alternative without using shifting\n",
    "m_temp = df[df['gender'] == 'M']['temperature']\n",
    "f_temp = df[df['gender'] == 'F']['temperature']\n",
    "obs_dif = m_temp.mean() - f_temp.mean()\n",
    "rep_dif = np.empty(10000)\n",
    "for i in range(10000):\n",
    "    bs_m = np.random.choice(m_temp,len(m_temp))\n",
    "    bs_f = np.random.choice(f_temp,len(f_temp))\n",
    "    rep_dif[i] = bs_m.mean() - bs_f.mean()\n",
    "p_value = np.sum(rep_dif > 0)/len(rep_dif)\n",
    "print(p_value)\n"
   ]
  },
  {
   "cell_type": "code",
   "execution_count": 85,
   "metadata": {},
   "outputs": [
    {
     "name": "stdout",
     "output_type": "stream",
     "text": [
      "65\n",
      "65\n",
      "-2.285434538165274\n"
     ]
    }
   ],
   "source": [
    "# alternative using 2-sample z-test\n",
    "print(len(m_temp))\n",
    "print(len(f_temp))\n",
    "# two samples have same length\n",
    "# for 95% confidence interval, z need to be larger than 1.96 to reject null hypothesis\n",
    "z = (m_temp.mean()-f_temp.mean())/np.sqrt(((m_temp.std())**2)/len(m_temp) + ((f_temp.std())**2)/len(f_temp))\n",
    "print(z)\n",
    "p_value = 0.01 # based on z table"
   ]
  },
  {
   "cell_type": "markdown",
   "metadata": {},
   "source": [
    "# Answer to Q6\n",
    "1. Use 2-sample bootstrap test and resulting p-value is small (0.012) than the 0.05 threshold of 95% confidence interval. Therefore, the null hypothesis is not true and normal temperatures of males and females are different\n",
    "2. 2-sample z-test also yields a small p-value (0.01) and rejects the null hypothesis\n",
    "3. Mean normal body temperature is not 98.6F based on analysis of the sample data. And the value differs between males and females."
   ]
  },
  {
   "cell_type": "markdown",
   "metadata": {},
   "source": []
  }
 ],
 "metadata": {
  "kernelspec": {
   "display_name": "Python 3",
   "language": "python",
   "name": "python3"
  },
  "language_info": {
   "codemirror_mode": {
    "name": "ipython",
    "version": 3
   },
   "file_extension": ".py",
   "mimetype": "text/x-python",
   "name": "python",
   "nbconvert_exporter": "python",
   "pygments_lexer": "ipython3",
   "version": "3.6.4"
  }
 },
 "nbformat": 4,
 "nbformat_minor": 1
}
