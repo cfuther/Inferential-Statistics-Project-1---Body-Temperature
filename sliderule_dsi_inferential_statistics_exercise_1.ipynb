{
 "cells": [
  {
   "cell_type": "markdown",
   "metadata": {},
   "source": [
    "# What is the True Normal Human Body Temperature? \n",
    "\n",
    "#### Background\n",
    "\n",
    "The mean normal body temperature was held to be 37$^{\\circ}$C or 98.6$^{\\circ}$F for more than 120 years since it was first conceptualized and reported by Carl Wunderlich in a famous 1868 book. But, is this value statistically correct?"
   ]
  },
  {
   "cell_type": "markdown",
   "metadata": {},
   "source": [
    "<h3>Exercises</h3>\n",
    "\n",
    "<p>In this exercise, you will analyze a dataset of human body temperatures and employ the concepts of hypothesis testing, confidence intervals, and statistical significance.</p>\n",
    "\n",
    "<p>Answer the following questions <b>in this notebook below and submit to your Github account</b>.</p> \n",
    "\n",
    "<ol>\n",
    "<li>  Is the distribution of body temperatures normal? \n",
    "    <ul>\n",
    "    <li> Although this is not a requirement for the Central Limit Theorem to hold (read the introduction on Wikipedia's page about the CLT carefully: https://en.wikipedia.org/wiki/Central_limit_theorem), it gives us some peace of mind that the population may also be normally distributed if we assume that this sample is representative of the population.\n",
    "    <li> Think about the way you're going to check for the normality of the distribution. Graphical methods are usually used first, but there are also other ways: https://en.wikipedia.org/wiki/Normality_test\n",
    "    </ul>\n",
    "<li>  Is the sample size large? Are the observations independent?\n",
    "    <ul>\n",
    "    <li> Remember that this is a condition for the Central Limit Theorem, and hence the statistical tests we are using, to apply.\n",
    "    </ul>\n",
    "<li>  Is the true population mean really 98.6 degrees F?\n",
    "    <ul>\n",
    "    <li> First, try a bootstrap hypothesis test.\n",
    "    <li> Now, let's try frequentist statistical testing. Would you use a one-sample or two-sample test? Why?\n",
    "    <li> In this situation, is it appropriate to use the $t$ or $z$ statistic? \n",
    "    <li> Now try using the other test. How is the result be different? Why?\n",
    "    </ul>\n",
    "<li>  Draw a small sample of size 10 from the data and repeat both frequentist tests. \n",
    "    <ul>\n",
    "    <li> Which one is the correct one to use? \n",
    "    <li> What do you notice? What does this tell you about the difference in application of the $t$ and $z$ statistic?\n",
    "    </ul>\n",
    "<li>  At what temperature should we consider someone's temperature to be \"abnormal\"?\n",
    "    <ul>\n",
    "    <li> As in the previous example, try calculating everything using the boostrap approach, as well as the frequentist approach.\n",
    "    <li> Start by computing the margin of error and confidence interval. When calculating the confidence interval, keep in mind that you should use the appropriate formula for one draw, and not N draws.\n",
    "    </ul>\n",
    "<li>  Is there a significant difference between males and females in normal temperature?\n",
    "    <ul>\n",
    "    <li> What testing approach did you use and why?\n",
    "    <li> Write a story with your conclusion in the context of the original problem.\n",
    "    </ul>\n",
    "</ol>\n",
    "\n",
    "You can include written notes in notebook cells using Markdown: \n",
    "   - In the control panel at the top, choose Cell > Cell Type > Markdown\n",
    "   - Markdown syntax: http://nestacms.com/docs/creating-content/markdown-cheat-sheet\n",
    "\n",
    "#### Resources\n",
    "\n",
    "+ Information and data sources: http://www.amstat.org/publications/jse/datasets/normtemp.txt, http://www.amstat.org/publications/jse/jse_data_archive.htm\n",
    "+ Markdown syntax: http://nestacms.com/docs/creating-content/markdown-cheat-sheet\n",
    "\n",
    "****"
   ]
  },
  {
   "cell_type": "code",
   "execution_count": 2,
   "metadata": {},
   "outputs": [],
   "source": [
    "import pandas as pd\n",
    "\n",
    "df = pd.read_csv('C:/DS/Springboard/EDA_human_temperature/data/human_body_temperature.csv')"
   ]
  },
  {
   "cell_type": "code",
   "execution_count": 23,
   "metadata": {},
   "outputs": [
    {
     "name": "stdout",
     "output_type": "stream",
     "text": [
      "130\n",
      "temperature    0\n",
      "gender         0\n",
      "heart_rate     0\n",
      "dtype: int64\n"
     ]
    },
    {
     "data": {
      "text/html": [
       "<div>\n",
       "<style scoped>\n",
       "    .dataframe tbody tr th:only-of-type {\n",
       "        vertical-align: middle;\n",
       "    }\n",
       "\n",
       "    .dataframe tbody tr th {\n",
       "        vertical-align: top;\n",
       "    }\n",
       "\n",
       "    .dataframe thead th {\n",
       "        text-align: right;\n",
       "    }\n",
       "</style>\n",
       "<table border=\"1\" class=\"dataframe\">\n",
       "  <thead>\n",
       "    <tr style=\"text-align: right;\">\n",
       "      <th></th>\n",
       "      <th>temperature</th>\n",
       "      <th>gender</th>\n",
       "      <th>heart_rate</th>\n",
       "    </tr>\n",
       "  </thead>\n",
       "  <tbody>\n",
       "    <tr>\n",
       "      <th>0</th>\n",
       "      <td>99.3</td>\n",
       "      <td>F</td>\n",
       "      <td>68.0</td>\n",
       "    </tr>\n",
       "    <tr>\n",
       "      <th>1</th>\n",
       "      <td>98.4</td>\n",
       "      <td>F</td>\n",
       "      <td>81.0</td>\n",
       "    </tr>\n",
       "    <tr>\n",
       "      <th>2</th>\n",
       "      <td>97.8</td>\n",
       "      <td>M</td>\n",
       "      <td>73.0</td>\n",
       "    </tr>\n",
       "    <tr>\n",
       "      <th>3</th>\n",
       "      <td>99.2</td>\n",
       "      <td>F</td>\n",
       "      <td>66.0</td>\n",
       "    </tr>\n",
       "    <tr>\n",
       "      <th>4</th>\n",
       "      <td>98.0</td>\n",
       "      <td>F</td>\n",
       "      <td>73.0</td>\n",
       "    </tr>\n",
       "  </tbody>\n",
       "</table>\n",
       "</div>"
      ],
      "text/plain": [
       "   temperature gender  heart_rate\n",
       "0         99.3      F        68.0\n",
       "1         98.4      F        81.0\n",
       "2         97.8      M        73.0\n",
       "3         99.2      F        66.0\n",
       "4         98.0      F        73.0"
      ]
     },
     "execution_count": 23,
     "metadata": {},
     "output_type": "execute_result"
    }
   ],
   "source": [
    "# Your work here.\n",
    "print(len(df))\n",
    "print(df.isna().sum())\n",
    "df.head()"
   ]
  },
  {
   "cell_type": "code",
   "execution_count": 18,
   "metadata": {},
   "outputs": [],
   "source": [
    "import matplotlib.pyplot as plt\n",
    "import matplotlib.mlab as mlab\n",
    "import numpy as np\n"
   ]
  },
  {
   "cell_type": "code",
   "execution_count": 19,
   "metadata": {},
   "outputs": [
    {
     "name": "stdout",
     "output_type": "stream",
     "text": [
      "98.24923076923078\n",
      "0.7331831580389454\n"
     ]
    }
   ],
   "source": [
    "mu = df['temperature'].mean()\n",
    "sigma = np.sqrt(df['temperature'].var()) \n",
    "\n",
    "print(mu)\n",
    "print(sigma)"
   ]
  },
  {
   "cell_type": "code",
   "execution_count": 20,
   "metadata": {},
   "outputs": [
    {
     "data": {
      "image/png": "[encoded data removed]",
      "text/plain": [
       "<matplotlib.figure.Figure at 0x1cdc47a9940>"
      ]
     },
     "metadata": {},
     "output_type": "display_data"
    }
   ],
   "source": [
    "#graphical check of normality\n",
    "x = np.linspace(mu - 3*sigma, mu + 3*sigma, 100)\n",
    "plt.plot(x,mlab.normpdf(x, mu, sigma))\n",
    "plt.hist(df['temperature'],bins=10,normed=True,alpha=0.5)\n",
    "plt.xlabel('temperature')\n",
    "plt.ylabel('Probability')\n",
    "plt.show()"
   ]
  },
  {
   "cell_type": "code",
   "execution_count": 25,
   "metadata": {},
   "outputs": [
    {
     "name": "stdout",
     "output_type": "stream",
     "text": [
      "0.6923076923076923\n",
      "0.9461538461538461\n",
      "0.9923076923076923\n"
     ]
    }
   ],
   "source": [
    "#back of envelope test\n",
    "sigma1 = mu + sigma \n",
    "sigma2 = mu + sigma*2\n",
    "sigma3 = mu + sigma*3\n",
    "sigma_1 = mu - sigma \n",
    "sigma_2 = mu - sigma*2\n",
    "sigma_3 = mu - sigma*3\n",
    "obs_sigma1 = len(df[(df['temperature'] >= sigma_1) & (df['temperature'] <= sigma1)])/len(df)\n",
    "obs_sigma2 = len(df[(df['temperature'] >= sigma_2) & (df['temperature'] <= sigma2)])/len(df)\n",
    "obs_sigma3 = len(df[(df['temperature'] >= sigma_3) & (df['temperature'] <= sigma3)])/len(df)\n",
    "print(obs_sigma1)\n",
    "print(obs_sigma2)\n",
    "print(obs_sigma3)\n",
    "\n",
    "# Answer to Q1:\n",
    "# since the observed probability are close to the 68-95-99.7% target and graphical check of histogram is close to bell shape, \n",
    "# this distribution is normal distribution "
   ]
  },
  {
   "cell_type": "code",
   "execution_count": null,
   "metadata": {},
   "outputs": [],
   "source": [
    "# Answer to Q2:\n",
    "# sample size is 130\n",
    "# it should be less than 10% of the total population \n",
    "# so it is safe to assume the temperature sample is random and independent "
   ]
  },
  {
   "cell_type": "code",
   "execution_count": 30,
   "metadata": {},
   "outputs": [
    {
     "name": "stdout",
     "output_type": "stream",
     "text": [
      "0.0\n"
     ]
    }
   ],
   "source": [
    "# bootstrapp hypothesis test\n",
    "# assume the true mean is 98.6\n",
    "trans_temp = df['temperature'] - df['temperature'].mean() + 98.6\n",
    "rep_mean = np.empty(10000)\n",
    "for i in range(10000):\n",
    "    bs_temp = np.random.choice(trans_temp,len(df['temperature']))\n",
    "    rep_mean[i] = bs_temp.mean()\n",
    "p = np.sum(rep_mean <= df['temperature'].mean())/10000\n",
    "print(p)\n",
    "# the low p value suggests the null hypothesis is false, meaning the true mean temperature is not 98.6F"
   ]
  },
  {
   "cell_type": "code",
   "execution_count": 31,
   "metadata": {},
   "outputs": [
    {
     "data": {
      "text/plain": [
       "5.454823292364079"
      ]
     },
     "execution_count": 31,
     "metadata": {},
     "output_type": "execute_result"
    }
   ],
   "source": [
    "# I would use one-sample test, since 98.6 is only one value\n",
    "# I would use t statistic, since we don't have information on the standard deviation of true population\n",
    "import math \n",
    "t = (98.6 - df['temperature'].mean())/(df['temperature'].std()/math.sqrt(len(df)))\n",
    "# for two-tail 95% confidence level,degree of freedom 129, the t* is 1.98 \n",
    "# the resulting t is greater than 1.98, meaning the null hypothesis is not true, and true mean is not 98.6"
   ]
  },
  {
   "cell_type": "code",
   "execution_count": 33,
   "metadata": {},
   "outputs": [
    {
     "data": {
      "text/plain": [
       "array([98. , 98.6, 98.8, 98.2, 99.9, 98. , 98.4, 98.8, 97.1, 98.2])"
      ]
     },
     "execution_count": 33,
     "metadata": {},
     "output_type": "execute_result"
    }
   ],
   "source": [
    "# draw 10 sample from the original sample\n",
    "t_per = np.random.permutation(df['temperature'])\n",
    "t_10 = t_per[:10]\n",
    "t_10"
   ]
  },
  {
   "cell_type": "code",
   "execution_count": 34,
   "metadata": {},
   "outputs": [
    {
     "name": "stdout",
     "output_type": "stream",
     "text": [
      "0.1758\n"
     ]
    }
   ],
   "source": [
    "# bootstrapping of 10 size sample\n",
    "trans_temp = t_10 - t_10.mean() + 98.6\n",
    "rep_mean = np.empty(10000)\n",
    "for i in range(10000):\n",
    "    bs_temp = np.random.choice(trans_temp,len(t_10))\n",
    "    rep_mean[i] = bs_temp.mean()\n",
    "p = np.sum(rep_mean <= t_10.mean())/10000\n",
    "print(p)"
   ]
  },
  {
   "cell_type": "code",
   "execution_count": 35,
   "metadata": {},
   "outputs": [
    {
     "data": {
      "text/plain": [
       "0.9225312080288304"
      ]
     },
     "execution_count": 35,
     "metadata": {},
     "output_type": "execute_result"
    }
   ],
   "source": [
    "# t-test of 10 size sample\n",
    "t = (98.6 - t_10.mean())/(t_10.std()/math.sqrt(len(t_10)))\n",
    "t"
   ]
  },
  {
   "cell_type": "code",
   "execution_count": null,
   "metadata": {},
   "outputs": [],
   "source": [
    "# Answer to Q4: conclusions from the 10-sample test are different than the original one\n",
    "# this is mainly because the small sample size makes the sample not random, \n",
    "# therefore none of t-test/z-test/bootstrapping is not suitable to do hypothesis test on this sample"
   ]
  },
  {
   "cell_type": "code",
   "execution_count": 38,
   "metadata": {},
   "outputs": [
    {
     "name": "stdout",
     "output_type": "stream",
     "text": [
      "temperature lower than  96.7225  or higher than  99.4775 can be considered abnormal\n"
     ]
    }
   ],
   "source": [
    "# abnormal temperature range using bootstrapping\n",
    "rep_low = np.empty(10000)\n",
    "rep_high = np.empty(10000)\n",
    "for i in range(10000):\n",
    "    bs_temp = np.random.choice(df['temperature'],len(df['temperature']))\n",
    "    rep_low[i] = np.percentile(bs_temp,2.5)\n",
    "    rep_high[i] = np.percentile(bs_temp,97.5)\n",
    "# use median of bootstrap low and high value to avoid influence of outliers\n",
    "temp_low = np.percentile(rep_low,50)\n",
    "temp_high = np.percentile(rep_high,50)\n",
    "\n",
    "print(\"temperature lower than \",temp_low,\" or higher than \",temp_high, \"can be considered abnormal\")"
   ]
  },
  {
   "cell_type": "code",
   "execution_count": 39,
   "metadata": {},
   "outputs": [
    {
     "name": "stdout",
     "output_type": "stream",
     "text": [
      "temperature lower than  98.12190802389175  or higher than  98.3765535145698 can be considered abnormal based on t-test\n"
     ]
    }
   ],
   "source": [
    "# abnormal temperature range using t-test\n",
    "# 95% confidence interval\n",
    "# t-value of two-tail table at degree of freedom is ~ 1.98\n",
    "t_low = np.percentile(df['temperature'],2.5) - 1.98*(df['temperature'].std()/math.sqrt(len(df)))\n",
    "t_high = df['temperature'].mean() + 1.98*(df['temperature'].std()/math.sqrt(len(df)))\n",
    "print(\"temperature lower than \",t_low,\" or higher than \",t_high, \"can be considered abnormal based on t-test\")"
   ]
  },
  {
   "cell_type": "code",
   "execution_count": null,
   "metadata": {},
   "outputs": [],
   "source": []
  },
  {
   "cell_type": "code",
   "execution_count": null,
   "metadata": {},
   "outputs": [],
   "source": []
  }
 ],
 "metadata": {
  "kernelspec": {
   "display_name": "Python 3",
   "language": "python",
   "name": "python3"
  },
  "language_info": {
   "codemirror_mode": {
    "name": "ipython",
    "version": 3
   },
   "file_extension": ".py",
   "mimetype": "text/x-python",
   "name": "python",
   "nbconvert_exporter": "python",
   "pygments_lexer": "ipython3",
   "version": "3.6.4"
  }
 },
 "nbformat": 4,
 "nbformat_minor": 1
}
